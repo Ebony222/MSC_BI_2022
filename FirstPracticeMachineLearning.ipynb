{
 "cells": [
  {
   "cell_type": "code",
   "execution_count": 1,
   "id": "f9d4f014",
   "metadata": {},
   "outputs": [
    {
     "name": "stdout",
     "output_type": "stream",
     "text": [
      "Hello world!\n"
     ]
    }
   ],
   "source": [
    "# the command line for print in python is print() . it doesnt have to be terminated by semicolon as in JAVA and take the print command System.out.println();\n",
    "print(\"Hello world!\")"
   ]
  },
  {
   "cell_type": "code",
   "execution_count": 8,
   "id": "a2a576b1",
   "metadata": {},
   "outputs": [
    {
     "name": "stdout",
     "output_type": "stream",
     "text": [
      "3 is an integer!\n"
     ]
    }
   ],
   "source": [
    "# if (conditional) statement have to be terminated by a colon and the boolean expression doesnt have to be written in between parenthesis\n",
    "if 3 >= 3:\n",
    "    print(\"3 is an integer!\")\n",
    "if 3 <= 2:\n",
    "    print(\"2 is an even number!\")\n",
    "    "
   ]
  },
  {
   "cell_type": "code",
   "execution_count": null,
   "id": "a08b295c",
   "metadata": {},
   "outputs": [],
   "source": [
    "# in python, line statements are initiated with # while block statements can be written in between multiline string (\"\"\")"
   ]
  },
  {
   "cell_type": "code",
   "execution_count": 9,
   "id": "949836dc",
   "metadata": {},
   "outputs": [
    {
     "name": "stdout",
     "output_type": "stream",
     "text": [
      "Welcome mr Obed!\n",
      "In no time, you will become a bioinformatician that is sort for across nations and is appealed to name your salary and dictate your schedule!\n"
     ]
    }
   ],
   "source": [
    "# introduction to genetics by Dr Obed \n",
    "print(\"Welcome mr Obed!\")\n",
    "\"\"\"\n",
    "Genetics is the study of individual genes and their implication in diseases \n",
    "Genomics is the study of the whole human gene, individually, their interaction \n",
    "with one another, the environment and the implication in diseases.\n",
    "\"\"\"\n",
    "print(\"In no time, you will become a bioinformatician that is sort for across nations and is appealed to name your salary and dictate your schedule!\")\n"
   ]
  },
  {
   "cell_type": "code",
   "execution_count": null,
   "id": "8b851cb1",
   "metadata": {},
   "outputs": [],
   "source": []
  },
  {
   "cell_type": "code",
   "execution_count": 12,
   "id": "eec19b51",
   "metadata": {},
   "outputs": [
    {
     "ename": "SyntaxError",
     "evalue": "invalid syntax (<ipython-input-12-df4528cfcb5b>, line 3)",
     "output_type": "error",
     "traceback": [
      "\u001b[1;36m  File \u001b[1;32m\"<ipython-input-12-df4528cfcb5b>\"\u001b[1;36m, line \u001b[1;32m3\u001b[0m\n\u001b[1;33m    print( x \"&\" y)\u001b[0m\n\u001b[1;37m             ^\u001b[0m\n\u001b[1;31mSyntaxError\u001b[0m\u001b[1;31m:\u001b[0m invalid syntax\n"
     ]
    }
   ],
   "source": [
    "x = 8 # x is an int data type\n",
    "y = 'R' # y is a character data type\n",
    "print( x \"&\" y)\n"
   ]
  },
  {
   "cell_type": "code",
   "execution_count": 13,
   "id": "e4185aac",
   "metadata": {},
   "outputs": [
    {
     "name": "stdout",
     "output_type": "stream",
     "text": [
      "<class 'int'>\n",
      "<class 'str'>\n"
     ]
    }
   ],
   "source": [
    "x = 4\n",
    "y = \"Rofiah\"\n",
    "print(type(x))\n",
    "print(type(y))\n"
   ]
  },
  {
   "cell_type": "code",
   "execution_count": 14,
   "id": "47829a53",
   "metadata": {},
   "outputs": [
    {
     "name": "stdout",
     "output_type": "stream",
     "text": [
      "Rofiah\n",
      "Beejay\n",
      "Tunde\n"
     ]
    }
   ],
   "source": [
    "\"\"\"\n",
    "there are different ways for writing a variable: camel case - where each word except the first word\n",
    "begins with a capital letter. eg myNewAge. snake case where each word is separated by a semicolon eg \n",
    "my_new_age. pascal case where each word starts with a capital letter eg MyNewAge \n",
    "\"\"\"\n",
    "# you can assign multiple values to multiple variables on the same line. But ensure the number of values correlates with the number of variables\n",
    "x, y, z = \"Rofiah\", \"Beejay\", \"Tunde\"\n",
    "print(x)\n",
    "print(y)\n",
    "print(z)"
   ]
  },
  {
   "cell_type": "code",
   "execution_count": 16,
   "id": "509fae61",
   "metadata": {},
   "outputs": [
    {
     "name": "stdout",
     "output_type": "stream",
     "text": [
      "Ebony\n",
      "Ebony\n",
      "Ebony\n"
     ]
    }
   ],
   "source": [
    "# you can assign a variable to multiple values on the same line\n",
    "X = Y = Z = \"Ebony\"\n",
    "print(X)\n",
    "print(Y)\n",
    "print(Z)"
   ]
  },
  {
   "cell_type": "code",
   "execution_count": 17,
   "id": "68150248",
   "metadata": {},
   "outputs": [
    {
     "name": "stdout",
     "output_type": "stream",
     "text": [
      "Aisha\n",
      "ALiya\n",
      "Ayobami\n"
     ]
    }
   ],
   "source": [
    "siblings = [\"Aisha\", \"ALiya\", \"Ayobami\"]\n",
    "a, b, c = siblings\n",
    "print(a)\n",
    "print(b)\n",
    "print(c)\n"
   ]
  },
  {
   "cell_type": "markdown",
   "id": "3a78b3ff",
   "metadata": {},
   "source": [
    "strings can be printed by including + to the print statement,but ensure to include space as a character. In the absence of space, the printed command will occur as a word and not a statement eg\n",
    "A = \"AYO \"\n",
    "B = \"BAYO \"\n",
    "C = \"CAYO \"\n",
    "print( A + B + C) will yield \n",
    "AYO BAYO CAYO\n",
    "while \n",
    "A = \"AYO\"\n",
    "B = \"BAYO\"\n",
    "C = \"CAYO\"\n",
    "print(A + B + C) will yield\n",
    "AYOBAYOCAYO"
   ]
  },
  {
   "cell_type": "markdown",
   "id": "cc16bd84",
   "metadata": {},
   "source": [
    "to print different data types, comma should be used as a separator and not + sign. The seperator comma can also be used to in the case of the same data type\n",
    "eg \n",
    "x = 5\n",
    "y = Dami \n",
    "print(x, y) will yield \n",
    "5 Dami. \n",
    "while print (x + y) will yield error due to variation in data type\n"
   ]
  },
  {
   "cell_type": "code",
   "execution_count": 23,
   "id": "dbb36c15",
   "metadata": {},
   "outputs": [
    {
     "name": "stdout",
     "output_type": "stream",
     "text": [
      "UMPTEENis a nitrogenous base classified as pyrimidine and is found only in RNA\n",
      "URACILis a nitrogenous base classified as pyrimidine and is found only in RNA\n"
     ]
    }
   ],
   "source": [
    "\"\"\" GLOBAL VARIABLE AND LOCAL VARIABLE\n",
    "Global variable is a variable  that is effective generally while local variable is a variable that is effective \n",
    "only within a function. They both can have values assigned to the same variable and still be treated separately without \n",
    "the next over writing the previous.A global variable can be effective within a function too if the name global is added \n",
    "to it e.g.\n",
    "\n",
    "w = \"webpage\"\n",
    "\n",
    "def myfunc():\n",
    "w = \"world\"\n",
    "print(\"The \" + w + \" was created by Allah\")\n",
    "\n",
    "myfunc()\n",
    "\n",
    "print(w + \" are built by programmers\")\n",
    " \n",
    "will yield both:\n",
    "The world was created by Allah\n",
    "webpage are built by programmers\n",
    "\"\"\"\n",
    "\n",
    "u = \"URACIL \"\n",
    "def myfunc():\n",
    "    u = \"UMPTEEN \"\n",
    "    \n",
    "    print(u + \"is a nitrogenous base classified as pyrimidine and is found only in RNA\")\n",
    "    \n",
    "myfunc()\n",
    "\n",
    "print(u + \"is a nitrogenous base classified as pyrimidine and is found only in RNA\")\n",
    "\n"
   ]
  },
  {
   "cell_type": "code",
   "execution_count": 31,
   "id": "e0a1ff86",
   "metadata": {},
   "outputs": [
    {
     "name": "stdout",
     "output_type": "stream",
     "text": [
      "<class 'complex'>\n",
      "23.0\n",
      "<class 'float'>\n",
      "(23+0j)\n",
      "<class 'complex'>\n"
     ]
    }
   ],
   "source": [
    "# data types in python\n",
    "\"\"\" str \"LOVE\"\n",
    "int 24\n",
    "float 30.5\n",
    "bool true\n",
    "complex 34m\n",
    "list [\"Peace\", \"excitement\"]\n",
    "tuple (\"Prosperity\", \"Honour\")\n",
    "dict {\"LOVE\" : \"Peace\", \"MARRIAGE\" : \"Happiness\"}\n",
    "set {\"SECURITY\", \"PASSION\"} \"\"\"\n",
    "\n",
    "m = 43j+9\n",
    "print(type(m))\n",
    "\n",
    "#number data types can be converted to another eg\n",
    "f = 23\n",
    "g = float(23)\n",
    "print(g)\n",
    "print(type(g))\n",
    "h= complex(g)\n",
    "print(h)\n",
    "print(type(h))\n",
    "#although, a complex data type cannot be converted to another number data type"
   ]
  },
  {
   "cell_type": "code",
   "execution_count": null,
   "id": "a0380a17",
   "metadata": {},
   "outputs": [],
   "source": []
  }
 ],
 "metadata": {
  "kernelspec": {
   "display_name": "Python 3",
   "language": "python",
   "name": "python3"
  },
  "language_info": {
   "codemirror_mode": {
    "name": "ipython",
    "version": 3
   },
   "file_extension": ".py",
   "mimetype": "text/x-python",
   "name": "python",
   "nbconvert_exporter": "python",
   "pygments_lexer": "ipython3",
   "version": "3.8.8"
  }
 },
 "nbformat": 4,
 "nbformat_minor": 5
}
