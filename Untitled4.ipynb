{
 "cells": [
  {
   "cell_type": "code",
   "execution_count": 1,
   "id": "d6f20cf3",
   "metadata": {},
   "outputs": [
    {
     "name": "stdout",
     "output_type": "stream",
     "text": [
      "1\n",
      "2\n",
      "3\n",
      "4\n",
      "5\n"
     ]
    }
   ],
   "source": [
    "i = 1\n",
    "while i <= 5:\n",
    "    print (i)\n",
    "    i = i + 1"
   ]
  },
  {
   "cell_type": "code",
   "execution_count": 2,
   "id": "3e375b22",
   "metadata": {},
   "outputs": [
    {
     "name": "stdout",
     "output_type": "stream",
     "text": [
      "*\n",
      "**\n",
      "***\n",
      "****\n",
      "*****\n"
     ]
    }
   ],
   "source": [
    "i = 1\n",
    "while i <= 5:\n",
    "    print (i * \"*\")\n",
    "    i = i + 1"
   ]
  },
  {
   "cell_type": "code",
   "execution_count": 5,
   "id": "b1ba338e",
   "metadata": {},
   "outputs": [
    {
     "name": "stdout",
     "output_type": "stream",
     "text": [
      "26\n"
     ]
    }
   ],
   "source": [
    "age = (\"26\", \"54\", \"88\")\n",
    "print (age[0])"
   ]
  },
  {
   "cell_type": "code",
   "execution_count": 6,
   "id": "dba1c217",
   "metadata": {},
   "outputs": [
    {
     "data": {
      "text/plain": [
       "(100, 200, 300, 'five hundred')"
      ]
     },
     "execution_count": 6,
     "metadata": {},
     "output_type": "execute_result"
    }
   ],
   "source": [
    "number = (100, 200, 300, \"five hundred\")\n",
    "number"
   ]
  },
  {
   "cell_type": "code",
   "execution_count": 12,
   "id": "93509a3a",
   "metadata": {},
   "outputs": [
    {
     "data": {
      "text/plain": [
       "300"
      ]
     },
     "execution_count": 12,
     "metadata": {},
     "output_type": "execute_result"
    }
   ],
   "source": [
    "number = (100, 200, 300, \"five hundred\")\n",
    "number\n",
    "number[2]"
   ]
  },
  {
   "cell_type": "code",
   "execution_count": 22,
   "id": "f09435a8",
   "metadata": {},
   "outputs": [
    {
     "data": {
      "text/plain": [
       "'five hundred'"
      ]
     },
     "execution_count": 22,
     "metadata": {},
     "output_type": "execute_result"
    }
   ],
   "source": [
    "mylist = (100, 200, 300, \"five hundred\")\n",
    "mylist[3]"
   ]
  },
  {
   "cell_type": "code",
   "execution_count": 51,
   "id": "7e265e53",
   "metadata": {},
   "outputs": [
    {
     "ename": "ModuleNotFoundError",
     "evalue": "No module named 'mylist'",
     "output_type": "error",
     "traceback": [
      "\u001b[1;31m---------------------------------------------------------------------------\u001b[0m",
      "\u001b[1;31mModuleNotFoundError\u001b[0m                       Traceback (most recent call last)",
      "\u001b[1;32m<ipython-input-51-60534f14364b>\u001b[0m in \u001b[0;36m<module>\u001b[1;34m\u001b[0m\n\u001b[1;32m----> 1\u001b[1;33m \u001b[1;32mimport\u001b[0m \u001b[0mmylist\u001b[0m\u001b[1;33m\u001b[0m\u001b[1;33m\u001b[0m\u001b[0m\n\u001b[0m\u001b[0;32m      2\u001b[0m \u001b[0mmylist\u001b[0m \u001b[1;33m=\u001b[0m \u001b[1;33m(\u001b[0m\u001b[1;36m100\u001b[0m\u001b[1;33m,\u001b[0m \u001b[1;36m200\u001b[0m\u001b[1;33m,\u001b[0m \u001b[1;36m300\u001b[0m\u001b[1;33m,\u001b[0m \u001b[1;34m\"five hundred\"\u001b[0m\u001b[1;33m)\u001b[0m\u001b[1;33m\u001b[0m\u001b[1;33m\u001b[0m\u001b[0m\n\u001b[0;32m      3\u001b[0m \u001b[0mmylist\u001b[0m\u001b[1;33m.\u001b[0m\u001b[0minsert\u001b[0m\u001b[1;33m(\u001b[0m\u001b[1;36m2\u001b[0m\u001b[1;33m,\u001b[0m \u001b[1;36m500\u001b[0m\u001b[1;33m)\u001b[0m\u001b[1;33m\u001b[0m\u001b[1;33m\u001b[0m\u001b[0m\n",
      "\u001b[1;31mModuleNotFoundError\u001b[0m: No module named 'mylist'"
     ]
    }
   ],
   "source": [
    "import mylist\n",
    "mylist = (100, 200, 300, \"five hundred\")\n",
    "mylist.insert(2, 500)"
   ]
  },
  {
   "cell_type": "code",
   "execution_count": 27,
   "id": "5c5e4636",
   "metadata": {},
   "outputs": [
    {
     "data": {
      "text/plain": [
       "{'first': 'Adelusi', 'second': 'Badmus'}"
      ]
     },
     "execution_count": 27,
     "metadata": {},
     "output_type": "execute_result"
    }
   ],
   "source": [
    "teachers = {'first': 'Adelusi', \"second\": \"Badmus\"}\n",
    "teachers"
   ]
  },
  {
   "cell_type": "code",
   "execution_count": 28,
   "id": "c6df989a",
   "metadata": {},
   "outputs": [
    {
     "data": {
      "text/plain": [
       "{'first': 'Adelusi', 2: 'Badmus'}"
      ]
     },
     "execution_count": 28,
     "metadata": {},
     "output_type": "execute_result"
    }
   ],
   "source": [
    "teachers = {'first': 'Adelusi', \n",
    "            2: \"Badmus\"}\n",
    "teachers"
   ]
  },
  {
   "cell_type": "code",
   "execution_count": 32,
   "id": "4713e6f6",
   "metadata": {},
   "outputs": [],
   "source": [
    "teachers[\"third\"]= \"Simbad\""
   ]
  },
  {
   "cell_type": "code",
   "execution_count": 33,
   "id": "405a257b",
   "metadata": {},
   "outputs": [
    {
     "data": {
      "text/plain": [
       "{'first': 'Adelusi', 2: 'Badmus', 'third': 'Simbad'}"
      ]
     },
     "execution_count": 33,
     "metadata": {},
     "output_type": "execute_result"
    }
   ],
   "source": [
    "teachers"
   ]
  },
  {
   "cell_type": "code",
   "execution_count": 34,
   "id": "a469a2a8",
   "metadata": {},
   "outputs": [],
   "source": [
    "teachers[\"forth\"] = \"Adeleke\""
   ]
  },
  {
   "cell_type": "code",
   "execution_count": 35,
   "id": "86b25f3c",
   "metadata": {},
   "outputs": [
    {
     "data": {
      "text/plain": [
       "{'first': 'Adelusi', 2: 'Badmus', 'third': 'Simbad', 'forth': 'Adeleke'}"
      ]
     },
     "execution_count": 35,
     "metadata": {},
     "output_type": "execute_result"
    }
   ],
   "source": [
    "teachers"
   ]
  },
  {
   "cell_type": "code",
   "execution_count": 36,
   "id": "94e77ac1",
   "metadata": {},
   "outputs": [],
   "source": [
    "foods = (\"eba\", \"amala\", \"fufu\", \"tuwo\", \"beans\", \"gizzard\", \"amala\")"
   ]
  },
  {
   "cell_type": "code",
   "execution_count": 38,
   "id": "b662c161",
   "metadata": {},
   "outputs": [
    {
     "data": {
      "text/plain": [
       "'amala'"
      ]
     },
     "execution_count": 38,
     "metadata": {},
     "output_type": "execute_result"
    }
   ],
   "source": [
    "foods[6]"
   ]
  },
  {
   "cell_type": "code",
   "execution_count": 42,
   "id": "6f7194c7",
   "metadata": {},
   "outputs": [
    {
     "name": "stdout",
     "output_type": "stream",
     "text": [
      "who let the dogs out\n",
      "woof\n",
      "woof\n",
      "woof\n"
     ]
    }
   ],
   "source": [
    "def bark():\n",
    "    print(\"woof\")\n",
    "    \n",
    "print('who let the dogs out')\n",
    "for i in range(3):\n",
    "    bark()"
   ]
  },
  {
   "cell_type": "code",
   "execution_count": 46,
   "id": "b8f9265d",
   "metadata": {},
   "outputs": [
    {
     "name": "stdout",
     "output_type": "stream",
     "text": [
      "sum of internal angles\n",
      "8 sides: 1080\n"
     ]
    }
   ],
   "source": [
    "def degrees(sides):\n",
    "    return (sides-2) * 180\n",
    "\n",
    "print(\"sum of internal angles\")\n",
    "for s in range(3,9):\n",
    "    d = degrees(s)\n",
    "\n",
    "print (str(s) + \" sides: \" + str(d))"
   ]
  },
  {
   "cell_type": "code",
   "execution_count": 47,
   "id": "d8258b80",
   "metadata": {},
   "outputs": [
    {
     "ename": "AttributeError",
     "evalue": "type object 'float' has no attribute 'fsum'",
     "output_type": "error",
     "traceback": [
      "\u001b[1;31m---------------------------------------------------------------------------\u001b[0m",
      "\u001b[1;31mAttributeError\u001b[0m                            Traceback (most recent call last)",
      "\u001b[1;32m<ipython-input-47-9ea566c82075>\u001b[0m in \u001b[0;36m<module>\u001b[1;34m\u001b[0m\n\u001b[0;32m      1\u001b[0m \u001b[0mvalues\u001b[0m \u001b[1;33m=\u001b[0m \u001b[1;33m(\u001b[0m\u001b[1;36m6.99\u001b[0m\u001b[1;33m,\u001b[0m \u001b[1;36m1\u001b[0m\u001b[1;33m,\u001b[0m \u001b[1;36m5\u001b[0m\u001b[1;33m,\u001b[0m \u001b[1;36m4\u001b[0m\u001b[1;33m)\u001b[0m\u001b[1;33m\u001b[0m\u001b[1;33m\u001b[0m\u001b[0m\n\u001b[1;32m----> 2\u001b[1;33m \u001b[0mnumber\u001b[0m \u001b[1;33m=\u001b[0m \u001b[0mfloat\u001b[0m\u001b[1;33m.\u001b[0m\u001b[0mfsum\u001b[0m\u001b[1;33m(\u001b[0m\u001b[0mvalues\u001b[0m\u001b[1;33m)\u001b[0m\u001b[1;33m\u001b[0m\u001b[1;33m\u001b[0m\u001b[0m\n\u001b[0m",
      "\u001b[1;31mAttributeError\u001b[0m: type object 'float' has no attribute 'fsum'"
     ]
    }
   ],
   "source": [
    "values = (6.99, 1, 5, 4)\n",
    "number = float.fsum(values)"
   ]
  },
  {
   "cell_type": "code",
   "execution_count": 48,
   "id": "d7b1594d",
   "metadata": {},
   "outputs": [],
   "source": [
    "import math\n",
    "values = (6.99, 1, 5, 4)\n",
    "number = math.fsum(values)"
   ]
  },
  {
   "cell_type": "code",
   "execution_count": 50,
   "id": "d994b378",
   "metadata": {},
   "outputs": [
    {
     "name": "stdout",
     "output_type": "stream",
     "text": [
      "16.990000000000002\n"
     ]
    }
   ],
   "source": [
    "print(number)"
   ]
  },
  {
   "cell_type": "code",
   "execution_count": 54,
   "id": "b60b2b3c",
   "metadata": {},
   "outputs": [
    {
     "name": "stdout",
     "output_type": "stream",
     "text": [
      "hello world\n"
     ]
    },
    {
     "data": {
      "text/plain": [
       "'world'"
      ]
     },
     "execution_count": 54,
     "metadata": {},
     "output_type": "execute_result"
    }
   ],
   "source": [
    "meaning = \"hello world\"\n",
    "print(meaning)\n",
    "meaning[6:]"
   ]
  },
  {
   "cell_type": "code",
   "execution_count": 55,
   "id": "a7372f8c",
   "metadata": {},
   "outputs": [
    {
     "name": "stdout",
     "output_type": "stream",
     "text": [
      "hello world\n"
     ]
    },
    {
     "data": {
      "text/plain": [
       "'world'"
      ]
     },
     "execution_count": 55,
     "metadata": {},
     "output_type": "execute_result"
    }
   ],
   "source": [
    "meaning = \"hello world\"\n",
    "print(meaning.lower())\n",
    "meaning[6:]"
   ]
  },
  {
   "cell_type": "code",
   "execution_count": 56,
   "id": "caf2cd3b",
   "metadata": {},
   "outputs": [
    {
     "name": "stdout",
     "output_type": "stream",
     "text": [
      "HELLO WORLD\n"
     ]
    },
    {
     "data": {
      "text/plain": [
       "'world'"
      ]
     },
     "execution_count": 56,
     "metadata": {},
     "output_type": "execute_result"
    }
   ],
   "source": [
    "meaning = \"hello world\"\n",
    "print(meaning.upper())\n",
    "meaning[6:]"
   ]
  },
  {
   "cell_type": "code",
   "execution_count": 57,
   "id": "67348d8a",
   "metadata": {},
   "outputs": [
    {
     "name": "stdout",
     "output_type": "stream",
     "text": [
      "language is C++\n"
     ]
    }
   ],
   "source": [
    "language = \"C++\"\n",
    "\n",
    "if language == \"C++\":\n",
    "    print(\"language is C++\")\n",
    "elif language == \"Java\":\n",
    "    print(\"language is Java\")\n",
    "elif language == \"python\":\n",
    "    print(\"langauge is python\")\n",
    "else:\n",
    "    print(\"no match\")"
   ]
  },
  {
   "cell_type": "code",
   "execution_count": 58,
   "id": "d217cf8e",
   "metadata": {},
   "outputs": [
    {
     "name": "stdout",
     "output_type": "stream",
     "text": [
      "language is Java\n"
     ]
    }
   ],
   "source": [
    "language = \"Java\"\n",
    "\n",
    "if language == \"C++\":\n",
    "    print(\"language is C++\")\n",
    "elif language == \"Java\":\n",
    "    print(\"language is Java\")\n",
    "elif language == \"python\":\n",
    "    print(\"langauge is python\")\n",
    "else:\n",
    "    print(\"no match\")"
   ]
  },
  {
   "cell_type": "code",
   "execution_count": 59,
   "id": "407bb62f",
   "metadata": {},
   "outputs": [
    {
     "name": "stdout",
     "output_type": "stream",
     "text": [
      "no match\n"
     ]
    }
   ],
   "source": [
    "language = \"HTML\"\n",
    "\n",
    "if language == \"C++\":\n",
    "    print(\"language is C++\")\n",
    "elif language == \"Java\":\n",
    "    print(\"language is Java\")\n",
    "elif language == \"python\":\n",
    "    print(\"langauge is python\")\n",
    "else:\n",
    "    print(\"no match\")"
   ]
  },
  {
   "cell_type": "code",
   "execution_count": 63,
   "id": "b178ccb2",
   "metadata": {},
   "outputs": [
    {
     "name": "stdout",
     "output_type": "stream",
     "text": [
      "hematics\n"
     ]
    }
   ],
   "source": [
    "y = \"mathematics\"\n",
    "print (y[3:])"
   ]
  },
  {
   "cell_type": "code",
   "execution_count": 66,
   "id": "509a6e09",
   "metadata": {},
   "outputs": [
    {
     "name": "stdout",
     "output_type": "stream",
     "text": [
      "ics\n"
     ]
    }
   ],
   "source": [
    "y = \"mathematics\"\n",
    "print (y[-3:])"
   ]
  },
  {
   "cell_type": "code",
   "execution_count": 67,
   "id": "d78daa02",
   "metadata": {},
   "outputs": [
    {
     "name": "stdout",
     "output_type": "stream",
     "text": [
      "mathemat\n"
     ]
    }
   ],
   "source": [
    "y = \"mathematics\"\n",
    "print (y[:-3])"
   ]
  },
  {
   "cell_type": "code",
   "execution_count": 73,
   "id": "72c4b3dd",
   "metadata": {},
   "outputs": [
    {
     "name": "stdout",
     "output_type": "stream",
     "text": [
      "athem\n"
     ]
    }
   ],
   "source": [
    "y = \"mathematics\"\n",
    "print (y[1:6])"
   ]
  },
  {
   "cell_type": "code",
   "execution_count": 75,
   "id": "8a0fa21a",
   "metadata": {},
   "outputs": [
    {
     "name": "stdout",
     "output_type": "stream",
     "text": [
      "6\n"
     ]
    }
   ],
   "source": [
    "w = \"window\"\n",
    "print (len(w))"
   ]
  },
  {
   "cell_type": "code",
   "execution_count": 76,
   "id": "a352da96",
   "metadata": {},
   "outputs": [
    {
     "name": "stdout",
     "output_type": "stream",
     "text": [
      "d\n"
     ]
    }
   ],
   "source": [
    "w = \"window\"\n",
    "print (min(w))"
   ]
  },
  {
   "cell_type": "code",
   "execution_count": 77,
   "id": "bdb33fa6",
   "metadata": {},
   "outputs": [
    {
     "name": "stdout",
     "output_type": "stream",
     "text": [
      "w\n"
     ]
    }
   ],
   "source": [
    "w = \"window\"\n",
    "print (max(w))"
   ]
  },
  {
   "cell_type": "code",
   "execution_count": 78,
   "id": "dcd2dd51",
   "metadata": {},
   "outputs": [
    {
     "name": "stdout",
     "output_type": "stream",
     "text": [
      "['a', 'a', 'e', 'i', 'i', 'n', 'q', 't', 't', 't', 'u', 'v']\n"
     ]
    }
   ],
   "source": [
    "q = \"quantitative\"\n",
    "print (sorted(q))"
   ]
  },
  {
   "cell_type": "code",
   "execution_count": 80,
   "id": "6b36c57b",
   "metadata": {},
   "outputs": [
    {
     "name": "stdout",
     "output_type": "stream",
     "text": [
      "3\n"
     ]
    }
   ],
   "source": [
    "q = \"quantitative\"\n",
    "print (q.count(\"t\"))"
   ]
  },
  {
   "cell_type": "code",
   "execution_count": 81,
   "id": "705de8d9",
   "metadata": {},
   "outputs": [
    {
     "name": "stdout",
     "output_type": "stream",
     "text": [
      "True\n"
     ]
    }
   ],
   "source": [
    " print(type([]) is list)"
   ]
  },
  {
   "cell_type": "code",
   "execution_count": 82,
   "id": "ad1089c7",
   "metadata": {},
   "outputs": [
    {
     "name": "stdout",
     "output_type": "stream",
     "text": [
      "<class 'int'>\n"
     ]
    }
   ],
   "source": [
    "print(type(10))"
   ]
  },
  {
   "cell_type": "code",
   "execution_count": 83,
   "id": "359629ec",
   "metadata": {},
   "outputs": [
    {
     "name": "stdout",
     "output_type": "stream",
     "text": [
      "512\n"
     ]
    }
   ],
   "source": [
    "print(2 ** 3 ** 2)"
   ]
  },
  {
   "cell_type": "code",
   "execution_count": 84,
   "id": "de1bf65d",
   "metadata": {},
   "outputs": [
    {
     "name": "stdout",
     "output_type": "stream",
     "text": [
      "2\n"
     ]
    }
   ],
   "source": [
    "print(2%6)"
   ]
  },
  {
   "cell_type": "code",
   "execution_count": 86,
   "id": "4b6de65e",
   "metadata": {},
   "outputs": [
    {
     "name": "stdout",
     "output_type": "stream",
     "text": [
      "2\n"
     ]
    }
   ],
   "source": [
    "print(-18 % 4)"
   ]
  },
  {
   "cell_type": "code",
   "execution_count": null,
   "id": "489c57b0",
   "metadata": {},
   "outputs": [],
   "source": [
    "print(type([]) is list)"
   ]
  },
  {
   "cell_type": "code",
   "execution_count": null,
   "id": "5080766b",
   "metadata": {},
   "outputs": [],
   "source": []
  },
  {
   "cell_type": "code",
   "execution_count": null,
   "id": "4504b0ad",
   "metadata": {},
   "outputs": [],
   "source": []
  }
 ],
 "metadata": {
  "kernelspec": {
   "display_name": "Python 3",
   "language": "python",
   "name": "python3"
  },
  "language_info": {
   "codemirror_mode": {
    "name": "ipython",
    "version": 3
   },
   "file_extension": ".py",
   "mimetype": "text/x-python",
   "name": "python",
   "nbconvert_exporter": "python",
   "pygments_lexer": "ipython3",
   "version": "3.8.8"
  }
 },
 "nbformat": 4,
 "nbformat_minor": 5
}
