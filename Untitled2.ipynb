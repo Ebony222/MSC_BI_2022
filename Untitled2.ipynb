{
 "cells": [
  {
   "cell_type": "code",
   "execution_count": 24,
   "id": "94660006",
   "metadata": {},
   "outputs": [
    {
     "name": "stdout",
     "output_type": "stream",
     "text": [
      "weight: 88\n",
      "kg or lbs: lbs\n",
      "weight in kg: 195.55555555555554\n",
      "done\n"
     ]
    }
   ],
   "source": [
    "weight = input(\"weight: \")\n",
    "unit = input(\"kg or lbs: \")\n",
    "if unit == \"kg\":\n",
    "    converted = float(weight) * 0.45\n",
    "    print(\"weight in lbs: \" + str(converted))\n",
    "else:\n",
    "    converted = float(weight) / 0.45\n",
    "    print(\"weight in kg: \" + str(converted))\n",
    "print(\"done\")"
   ]
  },
  {
   "cell_type": "code",
   "execution_count": 11,
   "id": "6baa6ce3",
   "metadata": {},
   "outputs": [
    {
     "name": "stdout",
     "output_type": "stream",
     "text": [
      "weight: 90\n",
      "kg or lbs: kg\n",
      "weight in lbs:40.5\n",
      "done\n"
     ]
    }
   ],
   "source": [
    "weight = input(\"weight: \")\n",
    "unit = input(\"kg or lbs: \")\n",
    "if unit == \"kg\":\n",
    "    converted = float(weight) * 0.45\n",
    "    print(\"weight in lbs:\" + str(converted))\n",
    "else:\n",
    "    converted = weight / 0.45\n",
    "    print(\"weight in kg:\" + str(converted))\n",
    "print(\"done\")"
   ]
  },
  {
   "cell_type": "code",
   "execution_count": null,
   "id": "37bc67d1",
   "metadata": {},
   "outputs": [],
   "source": [
    "i = 9\n",
    "while i >= 5:\n",
    "    print (i)\n",
    "    i = i + 1"
   ]
  },
  {
   "cell_type": "code",
   "execution_count": null,
   "id": "a86117f3",
   "metadata": {},
   "outputs": [],
   "source": []
  }
 ],
 "metadata": {
  "kernelspec": {
   "display_name": "Python 3",
   "language": "python",
   "name": "python3"
  },
  "language_info": {
   "codemirror_mode": {
    "name": "ipython",
    "version": 3
   },
   "file_extension": ".py",
   "mimetype": "text/x-python",
   "name": "python",
   "nbconvert_exporter": "python",
   "pygments_lexer": "ipython3",
   "version": "3.8.8"
  }
 },
 "nbformat": 4,
 "nbformat_minor": 5
}
