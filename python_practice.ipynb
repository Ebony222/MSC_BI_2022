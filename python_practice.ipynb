{
 "cells": [
  {
   "cell_type": "markdown",
   "id": "b852242a",
   "metadata": {},
   "source": [
    "first python tutorial"
   ]
  },
  {
   "cell_type": "code",
   "execution_count": 1,
   "id": "5e6ece08",
   "metadata": {},
   "outputs": [
    {
     "name": "stdout",
     "output_type": "stream",
     "text": [
      "hello dad\n"
     ]
    }
   ],
   "source": [
    "print(\"hello dad\")"
   ]
  },
  {
   "cell_type": "code",
   "execution_count": 2,
   "id": "21903c0f",
   "metadata": {},
   "outputs": [],
   "source": [
    "# variables"
   ]
  },
  {
   "cell_type": "markdown",
   "id": "0844b6a3",
   "metadata": {},
   "source": [
    "VARIABLES"
   ]
  },
  {
   "cell_type": "code",
   "execution_count": 3,
   "id": "96d11ecd",
   "metadata": {},
   "outputs": [],
   "source": [
    "X=20"
   ]
  },
  {
   "cell_type": "code",
   "execution_count": 4,
   "id": "2745bdd8",
   "metadata": {},
   "outputs": [
    {
     "name": "stdout",
     "output_type": "stream",
     "text": [
      "Variable   Type    Data/Info\n",
      "----------------------------\n",
      "X          int     20\n"
     ]
    }
   ],
   "source": [
    "%whos"
   ]
  },
  {
   "cell_type": "code",
   "execution_count": 5,
   "id": "96dd118c",
   "metadata": {},
   "outputs": [],
   "source": [
    "y=50"
   ]
  },
  {
   "cell_type": "code",
   "execution_count": 6,
   "id": "a77beee5",
   "metadata": {},
   "outputs": [
    {
     "name": "stderr",
     "output_type": "stream",
     "text": [
      "UsageError: Line magic function `%WHOS` not found.\n"
     ]
    }
   ],
   "source": [
    "%WHOS"
   ]
  },
  {
   "cell_type": "code",
   "execution_count": null,
   "id": "9e55ab65",
   "metadata": {},
   "outputs": [],
   "source": [
    "%whos"
   ]
  },
  {
   "cell_type": "code",
   "execution_count": null,
   "id": "65498bb8",
   "metadata": {},
   "outputs": [],
   "source": [
    "B= \"hello mummy, how are you?\""
   ]
  },
  {
   "cell_type": "code",
   "execution_count": null,
   "id": "b8606e49",
   "metadata": {},
   "outputs": [],
   "source": [
    "print(B)"
   ]
  },
  {
   "cell_type": "markdown",
   "id": "54519bc2",
   "metadata": {},
   "source": [
    "OPERATORS"
   ]
  },
  {
   "cell_type": "code",
   "execution_count": null,
   "id": "53707fac",
   "metadata": {},
   "outputs": [],
   "source": [
    "abcd=20*50+3/11"
   ]
  },
  {
   "cell_type": "code",
   "execution_count": null,
   "id": "f7ff1854",
   "metadata": {},
   "outputs": [],
   "source": [
    "print(abcd)"
   ]
  },
  {
   "cell_type": "code",
   "execution_count": null,
   "id": "8aa9e3e2",
   "metadata": {},
   "outputs": [],
   "source": [
    "20**2"
   ]
  },
  {
   "cell_type": "code",
   "execution_count": null,
   "id": "848c2f2a",
   "metadata": {},
   "outputs": [],
   "source": [
    "11%2"
   ]
  },
  {
   "cell_type": "code",
   "execution_count": null,
   "id": "bec55d59",
   "metadata": {},
   "outputs": [],
   "source": [
    "11//3"
   ]
  },
  {
   "cell_type": "code",
   "execution_count": null,
   "id": "4cbd5fcf",
   "metadata": {},
   "outputs": [],
   "source": [
    "%whos"
   ]
  },
  {
   "cell_type": "code",
   "execution_count": null,
   "id": "7ecff5ac",
   "metadata": {},
   "outputs": [],
   "source": [
    "del y"
   ]
  },
  {
   "cell_type": "code",
   "execution_count": null,
   "id": "9f2dbea2",
   "metadata": {},
   "outputs": [],
   "source": [
    "%whos"
   ]
  },
  {
   "cell_type": "markdown",
   "id": "57350310",
   "metadata": {},
   "source": [
    "BOOL"
   ]
  },
  {
   "cell_type": "code",
   "execution_count": null,
   "id": "30054cf3",
   "metadata": {},
   "outputs": [],
   "source": [
    "a=true"
   ]
  },
  {
   "cell_type": "code",
   "execution_count": null,
   "id": "5b48f5e0",
   "metadata": {},
   "outputs": [],
   "source": [
    "a=True"
   ]
  },
  {
   "cell_type": "code",
   "execution_count": null,
   "id": "3f6bef45",
   "metadata": {},
   "outputs": [],
   "source": [
    "b=False\n",
    "c=True\n"
   ]
  },
  {
   "cell_type": "code",
   "execution_count": null,
   "id": "63b0f279",
   "metadata": {},
   "outputs": [],
   "source": [
    "%whos"
   ]
  },
  {
   "cell_type": "code",
   "execution_count": null,
   "id": "09ad23cd",
   "metadata": {},
   "outputs": [],
   "source": [
    "print (a and b)\n",
    "print (a and c)\n",
    "print (b and c)"
   ]
  },
  {
   "cell_type": "code",
   "execution_count": null,
   "id": "6b8281f6",
   "metadata": {},
   "outputs": [],
   "source": [
    "not (b)"
   ]
  },
  {
   "cell_type": "code",
   "execution_count": null,
   "id": "dec46394",
   "metadata": {},
   "outputs": [],
   "source": [
    "not (a)"
   ]
  },
  {
   "cell_type": "code",
   "execution_count": null,
   "id": "fc873147",
   "metadata": {},
   "outputs": [],
   "source": [
    "not (c)"
   ]
  },
  {
   "cell_type": "markdown",
   "id": "e014d9a6",
   "metadata": {},
   "source": [
    "COMPARISONS"
   ]
  },
  {
   "cell_type": "code",
   "execution_count": null,
   "id": "76bd2c4a",
   "metadata": {},
   "outputs": [],
   "source": [
    "a=20\n",
    "b=50\n",
    "c=100\n",
    "d=4\n",
    "e=40"
   ]
  },
  {
   "cell_type": "code",
   "execution_count": null,
   "id": "1c2c9450",
   "metadata": {},
   "outputs": [],
   "source": [
    "print (a==b)\n",
    "print (b!=c)\n",
    "print (c<=d)\n",
    "print (e>=c)\n"
   ]
  },
  {
   "cell_type": "code",
   "execution_count": null,
   "id": "83be4dbe",
   "metadata": {},
   "outputs": [],
   "source": [
    "4!=6"
   ]
  },
  {
   "cell_type": "code",
   "execution_count": null,
   "id": "63e026e2",
   "metadata": {},
   "outputs": [],
   "source": [
    "print((not(2!=3) and True) or (False and True))"
   ]
  },
  {
   "cell_type": "code",
   "execution_count": null,
   "id": "10d9020f",
   "metadata": {},
   "outputs": [],
   "source": [
    "print (round(5.6))"
   ]
  },
  {
   "cell_type": "code",
   "execution_count": null,
   "id": "24f95c04",
   "metadata": {},
   "outputs": [],
   "source": [
    "print (round(4.5679,3))"
   ]
  },
  {
   "cell_type": "code",
   "execution_count": null,
   "id": "05e7c11b",
   "metadata": {},
   "outputs": [],
   "source": [
    "divmod (23,6)"
   ]
  },
  {
   "cell_type": "code",
   "execution_count": null,
   "id": "e2533eec",
   "metadata": {},
   "outputs": [],
   "source": [
    "g=divmod(23,6)"
   ]
  },
  {
   "cell_type": "code",
   "execution_count": null,
   "id": "9ae91125",
   "metadata": {},
   "outputs": [],
   "source": [
    "type(g)"
   ]
  },
  {
   "cell_type": "code",
   "execution_count": null,
   "id": "ad18472f",
   "metadata": {},
   "outputs": [],
   "source": [
    "%whos"
   ]
  },
  {
   "cell_type": "code",
   "execution_count": null,
   "id": "730e2557",
   "metadata": {},
   "outputs": [],
   "source": [
    "isinstance(40(int,str))"
   ]
  },
  {
   "cell_type": "code",
   "execution_count": null,
   "id": "5e8d8d53",
   "metadata": {},
   "outputs": [],
   "source": [
    "isinstance(40,(int, str))"
   ]
  },
  {
   "cell_type": "code",
   "execution_count": null,
   "id": "afd3b1cb",
   "metadata": {},
   "outputs": [],
   "source": [
    "z= input(\"Enter something :\")"
   ]
  },
  {
   "cell_type": "code",
   "execution_count": null,
   "id": "39ffee3c",
   "metadata": {},
   "outputs": [],
   "source": [
    "x= int (z)"
   ]
  },
  {
   "cell_type": "code",
   "execution_count": null,
   "id": "9cb7234b",
   "metadata": {},
   "outputs": [],
   "source": [
    "type(x)"
   ]
  },
  {
   "cell_type": "code",
   "execution_count": null,
   "id": "eaf9c413",
   "metadata": {},
   "outputs": [],
   "source": [
    "print (x- 5)"
   ]
  },
  {
   "cell_type": "code",
   "execution_count": null,
   "id": "6700a12b",
   "metadata": {},
   "outputs": [],
   "source": [
    "a=int(input())\n",
    "b=int(input())\n",
    "if a>b:\n",
    "    print(a)"
   ]
  },
  {
   "cell_type": "code",
   "execution_count": null,
   "id": "4d787228",
   "metadata": {},
   "outputs": [],
   "source": [
    "isinstance(4,(str,int))"
   ]
  },
  {
   "cell_type": "code",
   "execution_count": null,
   "id": "3b8ae524",
   "metadata": {},
   "outputs": [],
   "source": [
    "pow(10,2,3)"
   ]
  },
  {
   "cell_type": "code",
   "execution_count": 7,
   "id": "d0f678a7",
   "metadata": {},
   "outputs": [
    {
     "data": {
      "text/plain": [
       "(4, 6)"
      ]
     },
     "execution_count": 7,
     "metadata": {},
     "output_type": "execute_result"
    }
   ],
   "source": [
    "divmod(50,11)"
   ]
  },
  {
   "cell_type": "code",
   "execution_count": 8,
   "id": "42c98ce5",
   "metadata": {},
   "outputs": [
    {
     "data": {
      "text/plain": [
       "3.89"
      ]
     },
     "execution_count": 8,
     "metadata": {},
     "output_type": "execute_result"
    }
   ],
   "source": [
    "round(3.8902,2)"
   ]
  },
  {
   "cell_type": "code",
   "execution_count": 9,
   "id": "836bf251",
   "metadata": {},
   "outputs": [
    {
     "name": "stdout",
     "output_type": "stream",
     "text": [
      "20\n",
      "11\n",
      "still under the if condition\n",
      "still outside the if condition\n"
     ]
    }
   ],
   "source": [
    "a=int(input())\n",
    "b=int(input())\n",
    "if a>b:\n",
    "    print (\"still under the if condition\")\n",
    "print(\"still outside the if condition\")"
   ]
  },
  {
   "cell_type": "code",
   "execution_count": 10,
   "id": "b04896fe",
   "metadata": {},
   "outputs": [
    {
     "name": "stdout",
     "output_type": "stream",
     "text": [
      "15\n",
      "20\n",
      "11\n",
      "15\n",
      "11\n"
     ]
    }
   ],
   "source": [
    "a=int(input())\n",
    "b=int(input())\n",
    "c=int(input())\n",
    "if a>b:\n",
    "    print (b)\n",
    "if a<b:\n",
    "    print (a)\n",
    "if c<a:\n",
    "    print (c)"
   ]
  },
  {
   "cell_type": "code",
   "execution_count": 11,
   "id": "66d9f948",
   "metadata": {},
   "outputs": [
    {
     "name": "stdout",
     "output_type": "stream",
     "text": [
      "11\n",
      "5\n",
      "11\n"
     ]
    }
   ],
   "source": [
    "a=int(input())\n",
    "b=int(input())\n",
    "if a>b:\n",
    "    print(a)\n",
    "else:\n",
    "    print(b)\n",
    "    "
   ]
  },
  {
   "cell_type": "code",
   "execution_count": 12,
   "id": "8ec47418",
   "metadata": {},
   "outputs": [
    {
     "name": "stdout",
     "output_type": "stream",
     "text": [
      "25\n"
     ]
    }
   ],
   "source": [
    "a= 25\n",
    "b= 40\n",
    "if a>b:\n",
    "    print (b)\n",
    "elif a==b:\n",
    "    print (equal)\n",
    "elif a>=b:\n",
    "    print (b)\n",
    "else:\n",
    "    print (a)"
   ]
  },
  {
   "cell_type": "code",
   "execution_count": 13,
   "id": "2794d64a",
   "metadata": {},
   "outputs": [
    {
     "name": "stdout",
     "output_type": "stream",
     "text": [
      "B\n"
     ]
    }
   ],
   "source": [
    "a=20\n",
    "b=3\n",
    "print ('A') if a<b else print (\"equal\") if a==b else print (\"B\")"
   ]
  },
  {
   "cell_type": "code",
   "execution_count": 15,
   "id": "cc92a8ae",
   "metadata": {},
   "outputs": [
    {
     "name": "stdout",
     "output_type": "stream",
     "text": [
      "Enter marks:50\n",
      "Below Average\n"
     ]
    }
   ],
   "source": [
    "a=int(input(\"Enter marks:\"))\n",
    "if a>85:\n",
    "    print ('Grade A')\n",
    "elif a>80 and a<=85:\n",
    "    print (\"Grade A-\")\n",
    "elif a>70 and a<=80:\n",
    "    print (\"Grade B\")\n",
    "else:\n",
    "    print (\"Below Average\")"
   ]
  },
  {
   "cell_type": "code",
   "execution_count": 17,
   "id": "3348c6fc",
   "metadata": {},
   "outputs": [
    {
     "name": "stdout",
     "output_type": "stream",
     "text": [
      "greater than\n"
     ]
    }
   ],
   "source": [
    "a=120\n",
    "if a>100:\n",
    "    print (\"greater than\")\n",
    "elif not (a>100):\n",
    "    print ('else part')"
   ]
  },
  {
   "cell_type": "code",
   "execution_count": 19,
   "id": "e1f08b4c",
   "metadata": {},
   "outputs": [
    {
     "name": "stdout",
     "output_type": "stream",
     "text": [
      "30\n",
      ">20\n",
      "inside the top if\n",
      ">=30\n",
      "inside the else part of nested if of nested if\n"
     ]
    }
   ],
   "source": [
    "a=int(input())\n",
    "if a>20:\n",
    "    print ('>20')\n",
    "    print (\"inside the top if\")\n",
    "    if a>30:\n",
    "        print (\">30\")\n",
    "        print (\"inside the nested if\")\n",
    "    else:\n",
    "        print (\">=30\")\n",
    "        print (\"inside the else part of nested if of nested if\")\n",
    "else:\n",
    "    print (\"<20\")\n",
    "    print (\"outside the nested if\")        "
   ]
  },
  {
   "cell_type": "code",
   "execution_count": 20,
   "id": "b0764729",
   "metadata": {},
   "outputs": [
    {
     "data": {
      "text/plain": [
       "'\\n\\n'"
      ]
     },
     "execution_count": 20,
     "metadata": {},
     "output_type": "execute_result"
    }
   ],
   "source": [
    "\"\"\"\n",
    "\n",
    "\"\"\""
   ]
  },
  {
   "cell_type": "code",
   "execution_count": 21,
   "id": "dce8d564",
   "metadata": {},
   "outputs": [
    {
     "name": "stdout",
     "output_type": "stream",
     "text": [
      "50\n",
      "A is greater than\n"
     ]
    }
   ],
   "source": [
    "a=int(input())\n",
    "if a>20:\n",
    "    print(\"A is greater than\")\n",
    "else:\n",
    "    print(\"A is lesser than\")"
   ]
  },
  {
   "cell_type": "code",
   "execution_count": 24,
   "id": "707b8e96",
   "metadata": {},
   "outputs": [
    {
     "name": "stdout",
     "output_type": "stream",
     "text": [
      "55\n",
      "55\n",
      "A is equal to B\n"
     ]
    }
   ],
   "source": [
    "a=int(input())\n",
    "b=int(input())\n",
    "if a<b:\n",
    "    print(\"B is greater\")\n",
    "elif b<a:\n",
    "    print (\"A is greater\")\n",
    "else:\n",
    "    print (\"A is equal to B\")"
   ]
  },
  {
   "cell_type": "code",
   "execution_count": 27,
   "id": "76ad886c",
   "metadata": {},
   "outputs": [
    {
     "name": "stdout",
     "output_type": "stream",
     "text": [
      "10\n",
      "1\n",
      "this is the iteration number : 1\n",
      "loop done\n",
      "4\n",
      "this is the iteration number : 2\n",
      "loop done\n",
      "9\n",
      "this is the iteration number : 3\n",
      "loop done\n",
      "16\n",
      "this is the iteration number : 4\n",
      "loop done\n",
      "25\n",
      "this is the iteration number : 5\n",
      "loop done\n",
      "36\n",
      "this is the iteration number : 6\n",
      "loop done\n",
      "49\n",
      "this is the iteration number : 7\n",
      "loop done\n",
      "64\n",
      "this is the iteration number : 8\n",
      "loop done\n",
      "81\n",
      "this is the iteration number : 9\n",
      "loop done\n"
     ]
    }
   ],
   "source": [
    "A=int(input())\n",
    "i = 1\n",
    "while i < A:\n",
    "    print (i**2)\n",
    "    print (\"this is the iteration number :\", i)\n",
    "    i += 1 # i = i+1\n",
    "    print (\"loop done\")\n",
    "    "
   ]
  },
  {
   "cell_type": "code",
   "execution_count": 34,
   "id": "8f273e65",
   "metadata": {},
   "outputs": [
    {
     "ename": "NameError",
     "evalue": "name 'true' is not defined",
     "output_type": "error",
     "traceback": [
      "\u001b[1;31m---------------------------------------------------------------------------\u001b[0m",
      "\u001b[1;31mNameError\u001b[0m                                 Traceback (most recent call last)",
      "\u001b[1;32m<ipython-input-34-3f87e47d23a5>\u001b[0m in \u001b[0;36m<module>\u001b[1;34m\u001b[0m\n\u001b[0;32m      1\u001b[0m \u001b[0mn\u001b[0m \u001b[1;33m=\u001b[0m \u001b[1;36m10\u001b[0m\u001b[1;33m\u001b[0m\u001b[1;33m\u001b[0m\u001b[0m\n\u001b[0;32m      2\u001b[0m \u001b[0mi\u001b[0m \u001b[1;33m=\u001b[0m \u001b[1;36m1\u001b[0m\u001b[1;33m\u001b[0m\u001b[1;33m\u001b[0m\u001b[0m\n\u001b[1;32m----> 3\u001b[1;33m \u001b[1;32mwhile\u001b[0m \u001b[0mtrue\u001b[0m\u001b[1;33m:\u001b[0m\u001b[1;33m\u001b[0m\u001b[1;33m\u001b[0m\u001b[0m\n\u001b[0m\u001b[0;32m      4\u001b[0m     \u001b[1;32mif\u001b[0m \u001b[0mi\u001b[0m\u001b[1;33m%\u001b[0m\u001b[1;36m9\u001b[0m \u001b[1;33m!=\u001b[0m \u001b[1;36m0\u001b[0m\u001b[1;33m:\u001b[0m\u001b[1;33m\u001b[0m\u001b[1;33m\u001b[0m\u001b[0m\n\u001b[0;32m      5\u001b[0m         \u001b[0mi\u001b[0m \u001b[1;33m+=\u001b[0m \u001b[1;36m1\u001b[0m\u001b[1;33m\u001b[0m\u001b[1;33m\u001b[0m\u001b[0m\n",
      "\u001b[1;31mNameError\u001b[0m: name 'true' is not defined"
     ]
    }
   ],
   "source": [
    "n = 10\n",
    "i = 1\n",
    "while true:\n",
    "    if i%9 != 0:\n",
    "        i += 1\n",
    "        continue\n",
    "    print (\"inside the else statement\")\n",
    "    break\n",
    "print ('done')"
   ]
  },
  {
   "cell_type": "code",
   "execution_count": 35,
   "id": "38920ebb",
   "metadata": {},
   "outputs": [
    {
     "name": "stdout",
     "output_type": "stream",
     "text": [
      "Variable   Type    Data/Info\n",
      "----------------------------\n",
      "A          int     10\n",
      "X          int     20\n",
      "a          int     55\n",
      "b          int     55\n",
      "c          int     11\n",
      "i          int     1\n",
      "n          int     10\n",
      "y          int     50\n"
     ]
    }
   ],
   "source": [
    "%whos"
   ]
  },
  {
   "cell_type": "code",
   "execution_count": 1,
   "id": "c0422de5",
   "metadata": {},
   "outputs": [
    {
     "name": "stdout",
     "output_type": "stream",
     "text": [
      "welcome to python\n"
     ]
    }
   ],
   "source": [
    "print ('welcome', 'to', 'python')\n"
   ]
  },
  {
   "cell_type": "code",
   "execution_count": null,
   "id": "049140cc",
   "metadata": {},
   "outputs": [],
   "source": []
  }
 ],
 "metadata": {
  "kernelspec": {
   "display_name": "Python 3",
   "language": "python",
   "name": "python3"
  },
  "language_info": {
   "codemirror_mode": {
    "name": "ipython",
    "version": 3
   },
   "file_extension": ".py",
   "mimetype": "text/x-python",
   "name": "python",
   "nbconvert_exporter": "python",
   "pygments_lexer": "ipython3",
   "version": "3.8.8"
  }
 },
 "nbformat": 4,
 "nbformat_minor": 5
}
