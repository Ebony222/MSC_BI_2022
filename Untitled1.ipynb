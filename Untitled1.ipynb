{
 "cells": [
  {
   "cell_type": "code",
   "execution_count": 1,
   "id": "274e3acd",
   "metadata": {},
   "outputs": [
    {
     "name": "stdout",
     "output_type": "stream",
     "text": [
      "what is your birthday year? 1996\n"
     ]
    },
    {
     "ename": "TypeError",
     "evalue": "unsupported operand type(s) for -: 'int' and 'str'",
     "output_type": "error",
     "traceback": [
      "\u001b[1;31m---------------------------------------------------------------------------\u001b[0m",
      "\u001b[1;31mTypeError\u001b[0m                                 Traceback (most recent call last)",
      "\u001b[1;32m<ipython-input-1-afbbe96de105>\u001b[0m in \u001b[0;36m<module>\u001b[1;34m\u001b[0m\n\u001b[0;32m      1\u001b[0m \u001b[0mbirthday_year\u001b[0m \u001b[1;33m=\u001b[0m \u001b[0minput\u001b[0m \u001b[1;33m(\u001b[0m\u001b[1;34m\"what is your birthday year? \"\u001b[0m\u001b[1;33m)\u001b[0m\u001b[1;33m\u001b[0m\u001b[1;33m\u001b[0m\u001b[0m\n\u001b[1;32m----> 2\u001b[1;33m \u001b[0mage\u001b[0m \u001b[1;33m=\u001b[0m \u001b[1;36m2022\u001b[0m \u001b[1;33m-\u001b[0m \u001b[0mbirthday_year\u001b[0m\u001b[1;33m\u001b[0m\u001b[1;33m\u001b[0m\u001b[0m\n\u001b[0m",
      "\u001b[1;31mTypeError\u001b[0m: unsupported operand type(s) for -: 'int' and 'str'"
     ]
    }
   ],
   "source": [
    "birthday_year = input (\"what is your birthday year? \")\n",
    "age = 2022 - birthday_year"
   ]
  },
  {
   "cell_type": "code",
   "execution_count": 2,
   "id": "cb233b80",
   "metadata": {},
   "outputs": [
    {
     "name": "stdout",
     "output_type": "stream",
     "text": [
      "what is your birthday year? 1996\n"
     ]
    }
   ],
   "source": [
    "birthday_year = input (\"what is your birthday year? \")\n",
    "age = 2022 - int(birthday_year)"
   ]
  },
  {
   "cell_type": "code",
   "execution_count": 3,
   "id": "a11330cc",
   "metadata": {},
   "outputs": [
    {
     "name": "stdout",
     "output_type": "stream",
     "text": [
      "26\n"
     ]
    }
   ],
   "source": [
    "print (age)"
   ]
  },
  {
   "cell_type": "code",
   "execution_count": 8,
   "id": "2e1c8039",
   "metadata": {},
   "outputs": [
    {
     "name": "stdout",
     "output_type": "stream",
     "text": [
      "first: 40\n",
      "second: 100\n",
      "140\n"
     ]
    }
   ],
   "source": [
    "first = input (\"first: \")\n",
    "second = input (\"second: \")\n",
    "sum = int(first) + int(second)\n",
    "print (sum)"
   ]
  },
  {
   "cell_type": "code",
   "execution_count": 9,
   "id": "9bbcc6dc",
   "metadata": {},
   "outputs": [
    {
     "name": "stdout",
     "output_type": "stream",
     "text": [
      "first: 20.3\n",
      "second: 50.1\n",
      "70.4\n"
     ]
    }
   ],
   "source": [
    "first = input (\"first: \")\n",
    "second = input (\"second: \")\n",
    "age = float(first) + float(second)\n",
    "print (age)"
   ]
  },
  {
   "cell_type": "code",
   "execution_count": 10,
   "id": "1585b06d",
   "metadata": {},
   "outputs": [
    {
     "name": "stdout",
     "output_type": "stream",
     "text": [
      "first: 50.7\n",
      "second: 44.3\n",
      "95.0\n"
     ]
    }
   ],
   "source": [
    "first = float(input('first: '))\n",
    "second = float(input(\"second: \"))\n",
    "age = (first + second)\n",
    "print (age)"
   ]
  },
  {
   "cell_type": "code",
   "execution_count": 12,
   "id": "7fa339e5",
   "metadata": {},
   "outputs": [
    {
     "name": "stdout",
     "output_type": "stream",
     "text": [
      "python 4 beginners\n"
     ]
    }
   ],
   "source": [
    "course = 'python for beginners'\n",
    "print(course.replace ('for', '4'))"
   ]
  },
  {
   "cell_type": "code",
   "execution_count": 17,
   "id": "e3d9529a",
   "metadata": {},
   "outputs": [
    {
     "name": "stdout",
     "output_type": "stream",
     "text": [
      "python for beginners\n"
     ]
    }
   ],
   "source": [
    "course = 'python for beginners'\n",
    "print(course.lower())"
   ]
  },
  {
   "cell_type": "code",
   "execution_count": 20,
   "id": "6fae4762",
   "metadata": {},
   "outputs": [
    {
     "name": "stdout",
     "output_type": "stream",
     "text": [
      "it's a hot day\n",
      "drink plenty of water\n"
     ]
    }
   ],
   "source": [
    "temperature = 35\n",
    "if temperature > 30:\n",
    "    print (\"it's a hot day\")\n",
    "    print (\"drink plenty of water\")\n"
   ]
  },
  {
   "cell_type": "code",
   "execution_count": 21,
   "id": "5ed51cfa",
   "metadata": {},
   "outputs": [
    {
     "name": "stdout",
     "output_type": "stream",
     "text": [
      "it's a hot day\n",
      "drink plenty of water\n",
      "stay hydrated\n"
     ]
    }
   ],
   "source": [
    "temperature = 35\n",
    "if temperature > 40:\n",
    "    print(\"it's a hot day\")\n",
    "    print (\"drink plenty of water\")\n",
    "    print (\"stay hydrated\")"
   ]
  },
  {
   "cell_type": "code",
   "execution_count": 26,
   "id": "1085ee1c",
   "metadata": {},
   "outputs": [
    {
     "name": "stdout",
     "output_type": "stream",
     "text": [
      "its a hot day\n",
      "done\n"
     ]
    }
   ],
   "source": [
    "temperature = 45\n",
    "if temperature > 40:\n",
    "    print (\"its a hot day\")\n",
    "elif temperature < 30: # (20, 25)\n",
    "    print (\"it's a cold day\")\n",
    "print(\"done\")"
   ]
  },
  {
   "cell_type": "code",
   "execution_count": null,
   "id": "70855f87",
   "metadata": {},
   "outputs": [],
   "source": [
    "weight= input(\"weight: \")\n",
    "unit = input(\"kg or lbs: \")\n",
    "if unit == kg:\n",
    "    converted = unit / 0.45\n",
    "    print (\"weight in lbs\" + converted)\n",
    "else:\n",
    "    unit == lbs\n",
    "    converted = unit * 0.45\n",
    "    print (\"weight in kg\" + converted)"
   ]
  },
  {
   "cell_type": "code",
   "execution_count": null,
   "id": "943da80c",
   "metadata": {},
   "outputs": [],
   "source": [
    "weight= input(\"weight: \")\n",
    "unit = input(\"kg or lbs: \")\n",
    "if unit == kg:\n",
    "    converted = unit / 0.45\n",
    "    print (\"weight in lbs\" + converted)\n",
    "else:\n",
    "    unit == lbs\n",
    "    converted = unit * 0.45\n",
    "    print (\"weight in kg\" + converted)"
   ]
  },
  {
   "cell_type": "code",
   "execution_count": null,
   "id": "274bf051",
   "metadata": {},
   "outputs": [],
   "source": [
    "weight= input(\"weight: \")\n",
    "unit = input(\"kg or lbs: \")\n",
    "if unit == kg:\n",
    "    converted = unit / 0.45\n",
    "    print (\"weight in lbs\" + converted)\n",
    "else:\n",
    "    unit == lbs\n",
    "    converted = unit * 0.45\n",
    "    print (\"weight in kg\" + converted)"
   ]
  },
  {
   "cell_type": "code",
   "execution_count": null,
   "id": "702a36c6",
   "metadata": {},
   "outputs": [],
   "source": [
    "weight = input(\"weight: \")\n",
    "unit = input(\"kg or lbs: \")\n",
    "if unit == kg:\n",
    "    converted = weight * 0.45\n",
    "    print(\"weight in lbs\" + converted)\n",
    "else:\n",
    "    converted = weight / 0.45\n",
    "    print(\"weight in lbs\" + converted)\n",
    "print(\"done\")"
   ]
  },
  {
   "cell_type": "code",
   "execution_count": null,
   "id": "7deb3282",
   "metadata": {},
   "outputs": [],
   "source": []
  }
 ],
 "metadata": {
  "kernelspec": {
   "display_name": "Python 3",
   "language": "python",
   "name": "python3"
  },
  "language_info": {
   "codemirror_mode": {
    "name": "ipython",
    "version": 3
   },
   "file_extension": ".py",
   "mimetype": "text/x-python",
   "name": "python",
   "nbconvert_exporter": "python",
   "pygments_lexer": "ipython3",
   "version": "3.8.8"
  }
 },
 "nbformat": 4,
 "nbformat_minor": 5
}
