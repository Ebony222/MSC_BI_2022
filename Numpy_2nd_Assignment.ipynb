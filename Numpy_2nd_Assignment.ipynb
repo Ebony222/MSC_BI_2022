{
 "cells": [
  {
   "cell_type": "code",
   "execution_count": 1,
   "id": "f74dd262",
   "metadata": {},
   "outputs": [],
   "source": [
    "import numpy as np"
   ]
  },
  {
   "cell_type": "code",
   "execution_count": 3,
   "id": "eaeb9763",
   "metadata": {},
   "outputs": [
    {
     "data": {
      "text/plain": [
       "array([[ 1,  2,  3,  4],\n",
       "       [ 5,  6,  7,  8],\n",
       "       [ 9, 10, 11, 12],\n",
       "       [13, 14, 15, 16],\n",
       "       [17, 18, 19, 20],\n",
       "       [21, 22, 23, 24]])"
      ]
     },
     "execution_count": 3,
     "metadata": {},
     "output_type": "execute_result"
    }
   ],
   "source": [
    "m = np.arange(1,25).reshape(6,4)\n",
    "m"
   ]
  },
  {
   "cell_type": "code",
   "execution_count": 5,
   "id": "13a63b7a",
   "metadata": {},
   "outputs": [
    {
     "data": {
      "text/plain": [
       "array([[10, 11],\n",
       "       [14, 15]])"
      ]
     },
     "execution_count": 5,
     "metadata": {},
     "output_type": "execute_result"
    }
   ],
   "source": [
    "m[[2,3],1:3]"
   ]
  },
  {
   "cell_type": "code",
   "execution_count": 6,
   "id": "c153c011",
   "metadata": {},
   "outputs": [
    {
     "data": {
      "text/plain": [
       "array([[ 6,  7,  8],\n",
       "       [10, 11, 12],\n",
       "       [14, 15, 16],\n",
       "       [18, 19, 20]])"
      ]
     },
     "execution_count": 6,
     "metadata": {},
     "output_type": "execute_result"
    }
   ],
   "source": [
    "m[[1,2,3,4],1:]"
   ]
  },
  {
   "cell_type": "code",
   "execution_count": 10,
   "id": "292d8f2c",
   "metadata": {},
   "outputs": [
    {
     "data": {
      "text/plain": [
       "array([[10, 12],\n",
       "       [18, 20]])"
      ]
     },
     "execution_count": 10,
     "metadata": {},
     "output_type": "execute_result"
    }
   ],
   "source": [
    "m[[2,4],1::2]"
   ]
  },
  {
   "cell_type": "code",
   "execution_count": 11,
   "id": "ba06c61f",
   "metadata": {},
   "outputs": [
    {
     "data": {
      "text/plain": [
       "array([[ 1,  4],\n",
       "       [ 9, 12],\n",
       "       [17, 20]])"
      ]
     },
     "execution_count": 11,
     "metadata": {},
     "output_type": "execute_result"
    }
   ],
   "source": [
    "m[[0,2,4],0::3]"
   ]
  },
  {
   "cell_type": "code",
   "execution_count": 12,
   "id": "974f1f21",
   "metadata": {},
   "outputs": [
    {
     "data": {
      "text/plain": [
       "array([[ 2,  3],\n",
       "       [14, 15]])"
      ]
     },
     "execution_count": 12,
     "metadata": {},
     "output_type": "execute_result"
    }
   ],
   "source": [
    "m[[0,3],1:3]"
   ]
  },
  {
   "cell_type": "code",
   "execution_count": 14,
   "id": "bf940e6d",
   "metadata": {},
   "outputs": [
    {
     "data": {
      "text/plain": [
       "array([[ 5,  6,  7,  8],\n",
       "       [13, 14, 15, 16],\n",
       "       [17, 18, 19, 20]])"
      ]
     },
     "execution_count": 14,
     "metadata": {},
     "output_type": "execute_result"
    }
   ],
   "source": [
    "m[[1,3,4], ]"
   ]
  },
  {
   "cell_type": "code",
   "execution_count": 15,
   "id": "3a4f71d6",
   "metadata": {},
   "outputs": [
    {
     "data": {
      "text/plain": [
       "array([[ 5,  8],\n",
       "       [13, 16],\n",
       "       [17, 20]])"
      ]
     },
     "execution_count": 15,
     "metadata": {},
     "output_type": "execute_result"
    }
   ],
   "source": [
    "m[[1,3,4],::3]"
   ]
  },
  {
   "cell_type": "code",
   "execution_count": 23,
   "id": "c4fc30a9",
   "metadata": {},
   "outputs": [
    {
     "data": {
      "text/plain": [
       "array([ 1000,  1045,  1090,  1135,  1180,  1226,  1271,  1316,  1361,\n",
       "        1407,  1452,  1497,  1542,  1587,  1633,  1678,  1723,  1768,\n",
       "        1814,  1859,  1904,  1949,  1994,  2040,  2085,  2130,  2175,\n",
       "        2221,  2266,  2311,  2356,  2402,  2447,  2492,  2537,  2582,\n",
       "        2628,  2673,  2718,  2763,  2809,  2854,  2899,  2944,  2989,\n",
       "        3035,  3080,  3125,  3170,  3216,  3261,  3306,  3351,  3396,\n",
       "        3442,  3487,  3532,  3577,  3623,  3668,  3713,  3758,  3804,\n",
       "        3849,  3894,  3939,  3984,  4030,  4075,  4120,  4165,  4211,\n",
       "        4256,  4301,  4346,  4391,  4437,  4482,  4527,  4572,  4618,\n",
       "        4663,  4708,  4753,  4798,  4844,  4889,  4934,  4979,  5025,\n",
       "        5070,  5115,  5160,  5206,  5251,  5296,  5341,  5386,  5432,\n",
       "        5477,  5522,  5567,  5613,  5658,  5703,  5748,  5793,  5839,\n",
       "        5884,  5929,  5974,  6020,  6065,  6110,  6155,  6201,  6246,\n",
       "        6291,  6336,  6381,  6427,  6472,  6517,  6562,  6608,  6653,\n",
       "        6698,  6743,  6788,  6834,  6879,  6924,  6969,  7015,  7060,\n",
       "        7105,  7150,  7195,  7241,  7286,  7331,  7376,  7422,  7467,\n",
       "        7512,  7557,  7603,  7648,  7693,  7738,  7783,  7829,  7874,\n",
       "        7919,  7964,  8010,  8055,  8100,  8145,  8190,  8236,  8281,\n",
       "        8326,  8371,  8417,  8462,  8507,  8552,  8597,  8643,  8688,\n",
       "        8733,  8778,  8824,  8869,  8914,  8959,  9005,  9050,  9095,\n",
       "        9140,  9185,  9231,  9276,  9321,  9366,  9412,  9457,  9502,\n",
       "        9547,  9592,  9638,  9683,  9728,  9773,  9819,  9864,  9909,\n",
       "        9954, 10000])"
      ]
     },
     "execution_count": 23,
     "metadata": {},
     "output_type": "execute_result"
    }
   ],
   "source": [
    "##Generate random prices between 1000 - 10000 of 200 customers\n",
    "import numpy as np\n",
    "np.linspace(1000,10000,200,dtype=int)"
   ]
  },
  {
   "cell_type": "code",
   "execution_count": 26,
   "id": "fabe370f",
   "metadata": {},
   "outputs": [],
   "source": [
    "##Create three variables called expensive, fair, cheap using boolean indexing on the prices generated for customers. cheap(1000-2499), fair(2500-4999) and expensive(5000-10000)\n",
    "import pandas as pd\n"
   ]
  },
  {
   "cell_type": "code",
   "execution_count": null,
   "id": "778ee191",
   "metadata": {},
   "outputs": [],
   "source": [
    "dict = {'cheap': [1000 2499], 'fair': [2500-4999], 'expensive': [5000-10000]}"
   ]
  },
  {
   "cell_type": "code",
   "execution_count": null,
   "id": "03091746",
   "metadata": {},
   "outputs": [],
   "source": []
  }
 ],
 "metadata": {
  "kernelspec": {
   "display_name": "Python 3",
   "language": "python",
   "name": "python3"
  },
  "language_info": {
   "codemirror_mode": {
    "name": "ipython",
    "version": 3
   },
   "file_extension": ".py",
   "mimetype": "text/x-python",
   "name": "python",
   "nbconvert_exporter": "python",
   "pygments_lexer": "ipython3",
   "version": "3.8.8"
  }
 },
 "nbformat": 4,
 "nbformat_minor": 5
}
